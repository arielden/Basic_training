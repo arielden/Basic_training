{
 "cells": [
  {
   "cell_type": "code",
   "execution_count": 37,
   "metadata": {},
   "outputs": [
    {
     "name": "stdout",
     "output_type": "stream",
     "text": [
      "-100 -99 -98 -97 -96 -95 -94 -93 -92 -91 -90 -89 -88 -87 -86 -85 -84 -83 -82 -81 -80 -79 -78 -77 -76 -75 -74 -73 -72 -71 -70 -69 -68 -67 -66 -65 -64 -63 -62 -61 -60 -59 -58 -57 -56 -55 -54 -53 -52 -51 -50 -49 -48 -47 -46 -45 -44 -43 -42 -41 -40 -39 -38 -37 -36 -35 -34 -33 -32 -31 -30 -29 -28 -27 -26 -25 -24 -23 -22 -21 -20 -19 -18 -17 -16 -15 -14 -13 -12 -11 -10 -9 -8 -7 -6 -5 -4 -3 -2 -1 "
     ]
    }
   ],
   "source": [
    "lista_neg = []\n",
    "i = -100\n",
    "pos = 0\n",
    "while i <= -1:\n",
    "    lista_neg.append(i)\n",
    "    print(lista_neg[pos], end=' ')\n",
    "    i += 1\n",
    "    pos += 1"
   ]
  },
  {
   "cell_type": "code",
   "execution_count": 44,
   "metadata": {},
   "outputs": [],
   "source": [
    "def conversion_grados(valor, origen, destino):\n",
    "    if (origen == 'celsius'):\n",
    "        if (destino == 'celsius'):\n",
    "            resultado = valor\n",
    "        elif (destino == 'farenheit'):\n",
    "            resultado = (valor * 9 / 5) + 32\n",
    "        elif (destino == 'kelvin'):\n",
    "            resultado = valor + 273.15\n",
    "        else:\n",
    "            print('param destino incorrecto')\n",
    "    elif (origen == 'farenheit'):\n",
    "        if (destino == 'celsius'):\n",
    "            resultado = (valor - 32) * 5 / 9\n",
    "        elif (destino == 'farenheit'):\n",
    "            resultado = valor\n",
    "        elif (destino == 'kelvin'):\n",
    "            resultado = ((valor - 32) * 5 / 9) + 273.15\n",
    "        else:\n",
    "            print('param destino incorrecto')\n",
    "    elif (origen == 'kelvin'):\n",
    "        if (destino == 'celsius'):\n",
    "            resultado = valor - 273.15\n",
    "        elif (destino == 'farenheit'):\n",
    "            resultado = ((valor - 273.15) * 9 / 5) + 32\n",
    "        elif (destino == 'kelvin'):\n",
    "            resultado = valor\n",
    "        else:\n",
    "            print('param destino incorrecto')\n",
    "    else:\n",
    "        print('param origen incorrecto')\n",
    "    return resultado"
   ]
  },
  {
   "cell_type": "code",
   "execution_count": 47,
   "metadata": {},
   "outputs": [
    {
     "data": {
      "text/plain": [
       "0"
      ]
     },
     "execution_count": 47,
     "metadata": {},
     "output_type": "execute_result"
    }
   ],
   "source": [
    "conversion_grados(0, 'celsius', 'celsius')"
   ]
  },
  {
   "cell_type": "code",
   "execution_count": 38,
   "metadata": {},
   "outputs": [],
   "source": [
    "import random\n",
    "\n",
    "def generarListaAzar(n):\n",
    "    lista = []\n",
    "    for i in range(0,n):\n",
    "        nro = random.randint(10,99)\n",
    "        lista.append(nro)\n",
    "    return lista\n",
    "\n",
    "def MostrarLista(lista):\n",
    "    i = 0\n",
    "    while i < len(lista):\n",
    "        print(lista[i], end=\" \")\n",
    "        i = i + 1\n",
    "    print('\\n')\n",
    "\n",
    "def BuscarValorSecuencial(lista, nro):\n",
    "    encontrado = False\n",
    "    i = 0\n",
    "    while i < len(lista) and encontrado == False:\n",
    "        if lista[i] == nro:\n",
    "            encontrado = True\n",
    "        i = i + 1\n",
    "    return encontrado"
   ]
  },
  {
   "cell_type": "code",
   "execution_count": 39,
   "metadata": {},
   "outputs": [
    {
     "name": "stdout",
     "output_type": "stream",
     "text": [
      "69 61 31 67 80 71 14 66 61 24 88 67 87 56 78 72 70 80 38 59 \n",
      "\n"
     ]
    }
   ],
   "source": [
    "N = int(input('Ingrese la cantidad de elementos que se desea crear: '))\n",
    "miLista = generarListaAzar(N)\n",
    "MostrarLista(miLista)"
   ]
  },
  {
   "cell_type": "code",
   "execution_count": 41,
   "metadata": {},
   "outputs": [
    {
     "name": "stdout",
     "output_type": "stream",
     "text": [
      "El valor No se encuentra en la lista\n"
     ]
    }
   ],
   "source": [
    "valor=int(input('Ingrese el valor a buscar:'))\n",
    "\n",
    "if BuscarValorSecuencial(miLista,valor) == True:\n",
    "    print('El valor se encuentra en la lista')\n",
    "else:\n",
    "    print('El valor No se encuentra en la lista')"
   ]
  }
 ],
 "metadata": {
  "kernelspec": {
   "display_name": "training_env",
   "language": "python",
   "name": "python3"
  },
  "language_info": {
   "codemirror_mode": {
    "name": "ipython",
    "version": 3
   },
   "file_extension": ".py",
   "mimetype": "text/x-python",
   "name": "python",
   "nbconvert_exporter": "python",
   "pygments_lexer": "ipython3",
   "version": "3.9.16"
  },
  "orig_nbformat": 4
 },
 "nbformat": 4,
 "nbformat_minor": 2
}
