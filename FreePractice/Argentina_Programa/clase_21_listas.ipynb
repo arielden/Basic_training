{
 "cells": [
  {
   "cell_type": "code",
   "execution_count": 71,
   "metadata": {},
   "outputs": [
    {
     "data": {
      "text/plain": [
       "[1, 1340, 3, 55, 2, 4]"
      ]
     },
     "execution_count": 71,
     "metadata": {},
     "output_type": "execute_result"
    }
   ],
   "source": [
    "lista = [1, 3, 55, 2, 4]\n",
    "lista.insert(1, 1340)\n",
    "lista"
   ]
  },
  {
   "cell_type": "code",
   "execution_count": 72,
   "metadata": {},
   "outputs": [
    {
     "data": {
      "text/plain": [
       "[1]"
      ]
     },
     "execution_count": 72,
     "metadata": {},
     "output_type": "execute_result"
    }
   ],
   "source": [
    "lista_indices = [index for index, item in enumerate(lista) if item == max(lista)]\n",
    "lista_indices"
   ]
  },
  {
   "cell_type": "code",
   "execution_count": 73,
   "metadata": {},
   "outputs": [],
   "source": [
    "def MostrarLista(lista):\n",
    "    for elemento in lista:\n",
    "        print(elemento, end=' ')\n"
   ]
  },
  {
   "cell_type": "code",
   "execution_count": 75,
   "metadata": {},
   "outputs": [
    {
     "name": "stdout",
     "output_type": "stream",
     "text": [
      "1 1340 3 55 2 4 "
     ]
    }
   ],
   "source": [
    "MostrarLista(lista)"
   ]
  },
  {
   "cell_type": "code",
   "execution_count": 76,
   "metadata": {},
   "outputs": [],
   "source": [
    "def SumaLista(lista):\n",
    "    suma = 0\n",
    "    for elemento in lista:\n",
    "        suma = suma + elemento\n",
    "    return suma"
   ]
  },
  {
   "cell_type": "code",
   "execution_count": 77,
   "metadata": {},
   "outputs": [
    {
     "data": {
      "text/plain": [
       "14"
      ]
     },
     "execution_count": 77,
     "metadata": {},
     "output_type": "execute_result"
    }
   ],
   "source": [
    "lista = [1, 3, 10]\n",
    "SumaLista(lista)"
   ]
  },
  {
   "cell_type": "code",
   "execution_count": 78,
   "metadata": {},
   "outputs": [],
   "source": [
    "def Duplica(lista):\n",
    "    i = 0\n",
    "    for elemento in lista:\n",
    "        lista[i] = elemento * 2\n",
    "        i += 1\n",
    "    return lista"
   ]
  },
  {
   "cell_type": "code",
   "execution_count": 79,
   "metadata": {},
   "outputs": [
    {
     "data": {
      "text/plain": [
       "[2, 6, 20]"
      ]
     },
     "execution_count": 79,
     "metadata": {},
     "output_type": "execute_result"
    }
   ],
   "source": [
    "Duplica(lista)"
   ]
  },
  {
   "cell_type": "code",
   "execution_count": 80,
   "metadata": {},
   "outputs": [],
   "source": [
    "def EliminarValor(lista, valor):\n",
    "    i = 0\n",
    "    for elemento in lista:\n",
    "        if elemento == valor:\n",
    "            lista.pop(i)\n",
    "        i += 1\n"
   ]
  },
  {
   "cell_type": "code",
   "execution_count": 81,
   "metadata": {},
   "outputs": [],
   "source": [
    "lista = [1, 34, 55, 2]\n",
    "EliminarValor(lista, 34)"
   ]
  },
  {
   "cell_type": "code",
   "execution_count": 82,
   "metadata": {},
   "outputs": [
    {
     "data": {
      "text/plain": [
       "[1, 55, 2]"
      ]
     },
     "execution_count": 82,
     "metadata": {},
     "output_type": "execute_result"
    }
   ],
   "source": [
    "lista"
   ]
  },
  {
   "cell_type": "code",
   "execution_count": 68,
   "metadata": {},
   "outputs": [],
   "source": [
    "def BuscaMin(lista):\n",
    "    min_val = lista[0]\n",
    "    for i in range(len(lista)):\n",
    "        if lista[i] <= min_val:\n",
    "            min_val = lista[i]\n",
    "    return min_val"
   ]
  },
  {
   "cell_type": "code",
   "execution_count": 62,
   "metadata": {},
   "outputs": [],
   "source": [
    "def BuscaMax(lista):\n",
    "    max_val = lista[0]\n",
    "    for i in range(len(lista)):\n",
    "        if lista[i] >= max_val:\n",
    "            max_val = lista[i]\n",
    "    return max_val"
   ]
  },
  {
   "cell_type": "code",
   "execution_count": 63,
   "metadata": {},
   "outputs": [
    {
     "name": "stdout",
     "output_type": "stream",
     "text": [
      "0\n"
     ]
    }
   ],
   "source": [
    "lista = [45, 34, 33, 23]\n",
    "minimo = BuscaMin(lista)\n",
    "maximo = BuscaMax(lista)"
   ]
  },
  {
   "cell_type": "code",
   "execution_count": 64,
   "metadata": {},
   "outputs": [
    {
     "data": {
      "text/plain": [
       "23"
      ]
     },
     "execution_count": 64,
     "metadata": {},
     "output_type": "execute_result"
    }
   ],
   "source": [
    "minimo"
   ]
  },
  {
   "cell_type": "code",
   "execution_count": 65,
   "metadata": {},
   "outputs": [
    {
     "data": {
      "text/plain": [
       "45"
      ]
     },
     "execution_count": 65,
     "metadata": {},
     "output_type": "execute_result"
    }
   ],
   "source": [
    "maximo"
   ]
  },
  {
   "cell_type": "code",
   "execution_count": 70,
   "metadata": {},
   "outputs": [
    {
     "name": "stdout",
     "output_type": "stream",
     "text": [
      "78\n",
      "2\n"
     ]
    }
   ],
   "source": [
    "lista = [3, 5, 78, 1]\n",
    "\n",
    "max_val = lista[0]\n",
    "for i in range(len(lista)):\n",
    "    if lista[i] >= max_val:\n",
    "        max_val = lista[i]\n",
    "        indice = i\n",
    "\n",
    "print(max_val)\n",
    "#print(lista.index(max_val))\n",
    "print(indice)"
   ]
  }
 ],
 "metadata": {
  "kernelspec": {
   "display_name": "training_env",
   "language": "python",
   "name": "python3"
  },
  "language_info": {
   "codemirror_mode": {
    "name": "ipython",
    "version": 3
   },
   "file_extension": ".py",
   "mimetype": "text/x-python",
   "name": "python",
   "nbconvert_exporter": "python",
   "pygments_lexer": "ipython3",
   "version": "3.9.16"
  },
  "orig_nbformat": 4
 },
 "nbformat": 4,
 "nbformat_minor": 2
}
