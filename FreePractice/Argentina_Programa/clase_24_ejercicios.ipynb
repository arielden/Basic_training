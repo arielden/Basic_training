{
 "cells": [
  {
   "attachments": {},
   "cell_type": "markdown",
   "metadata": {},
   "source": [
    "Ejercicio 1\n",
    "Una pequeña empresa de fabricación de tortas tiene que reemplazar uno de los hornos.\n",
    "Realizó una licitación y necesita un programa que le permita tomar las decisiones correctas para decidir\n",
    "cuál es la mejor opción.\n",
    "Sólo le interesan aquellos presupuestos menores al promedio que no superen los 10 días de entrega.\n",
    "Diseñe el programa que necesita la empresa para poder obtener un listado de los proveedores ordenados\n",
    "de menor a mayor según la cantidad de días de entrega.\n",
    "Desarrolle creando y utilizando funciones."
   ]
  },
  {
   "cell_type": "code",
   "execution_count": 1,
   "metadata": {},
   "outputs": [],
   "source": [
    "lista_pnom = [\"prov_1\", \"prov_2\", \"prov_3\", \"prov_4\"]\n",
    "lista_ppre = [40, 20, 10, 30]\n",
    "lista_dias = [5, 12, 8, 15]"
   ]
  },
  {
   "cell_type": "code",
   "execution_count": 2,
   "metadata": {},
   "outputs": [],
   "source": [
    "def calcPromedio(lista):\n",
    "    \"\"\" Recibe una lista, suma sus elementos\n",
    "    y calcula el promedio\"\"\"\n",
    "    suma = 0\n",
    "    promedio = 0\n",
    "    for elemento in lista:\n",
    "        suma = suma + elemento\n",
    "    promedio = suma / len(lista)\n",
    "    return promedio"
   ]
  },
  {
   "cell_type": "code",
   "execution_count": 3,
   "metadata": {},
   "outputs": [],
   "source": [
    "def buscaMinimos(lista, promedio):\n",
    "    \"\"\" Recibe una lista, busca valores menores al promedio\n",
    "    y devuelve otra lista con sus posiciones en la lista original\"\"\"\n",
    "    lista_pos = []\n",
    "    for i in range(len(lista)):\n",
    "        if lista[i] < promedio:\n",
    "            lista_pos.append(i)\n",
    "    return lista_pos"
   ]
  },
  {
   "cell_type": "code",
   "execution_count": 4,
   "metadata": {},
   "outputs": [],
   "source": [
    "def filtraDias(lista_pos, lista_dias):\n",
    "    \"\"\"Recibe una lista de posiciones y busca esas posiciones\n",
    "     en la lista de días. Compara si los dias son menor o igual a 10\n",
    "      devuelve otra lista con posiciones que cumplen el criterio \"\"\"\n",
    "    lista_selecc = []\n",
    "    for elemento in lista_pos:\n",
    "        if lista_dias[elemento] < 10:\n",
    "            lista_selecc.append(elemento)\n",
    "    return lista_selecc\n",
    "\n",
    "    "
   ]
  },
  {
   "cell_type": "code",
   "execution_count": 6,
   "metadata": {},
   "outputs": [],
   "source": [
    "def ordenaLista(ldias, lprov, lpres):\n",
    "    \"\"\"\" Recibe 3 listas y ordena todas usando\n",
    "    la ldias como referencia\"\"\"\n",
    "    prov_ord = []\n",
    "    pres_ord = []\n",
    "    dias_ord = sorted(ldias)\n",
    "    for i in range(len(dias_ord)):\n",
    "        pos = lprov.(dias_ord[i])\n",
    "        prov_ord.append(lprov[pos])\n",
    "        pres_ord.append(lpres[pos])\n",
    "    return prov_ord, pres_ord, dias_ord         "
   ]
  },
  {
   "cell_type": "code",
   "execution_count": 7,
   "metadata": {},
   "outputs": [
    {
     "data": {
      "text/plain": [
       "25.0"
      ]
     },
     "execution_count": 7,
     "metadata": {},
     "output_type": "execute_result"
    }
   ],
   "source": [
    "res_promedio = calcPromedio(lista_ppre)\n",
    "res_promedio"
   ]
  },
  {
   "cell_type": "code",
   "execution_count": 8,
   "metadata": {},
   "outputs": [
    {
     "data": {
      "text/plain": [
       "[1, 2]"
      ]
     },
     "execution_count": 8,
     "metadata": {},
     "output_type": "execute_result"
    }
   ],
   "source": [
    "lista_pos = buscaMinimos(lista_ppre, res_promedio)\n",
    "lista_pos"
   ]
  },
  {
   "cell_type": "code",
   "execution_count": 9,
   "metadata": {},
   "outputs": [
    {
     "data": {
      "text/plain": [
       "[2]"
      ]
     },
     "execution_count": 9,
     "metadata": {},
     "output_type": "execute_result"
    }
   ],
   "source": [
    "seleccion = filtraDias(lista_pos, lista_dias)\n",
    "seleccion"
   ]
  },
  {
   "cell_type": "code",
   "execution_count": 10,
   "metadata": {},
   "outputs": [
    {
     "ename": "ValueError",
     "evalue": "5 is not in list",
     "output_type": "error",
     "traceback": [
      "\u001b[0;31m---------------------------------------------------------------------------\u001b[0m",
      "\u001b[0;31mValueError\u001b[0m                                Traceback (most recent call last)",
      "Cell \u001b[0;32mIn[10], line 1\u001b[0m\n\u001b[0;32m----> 1\u001b[0m ordenaLista(lista_dias, lista_pnom, lista_ppre)\n",
      "Cell \u001b[0;32mIn[6], line 8\u001b[0m, in \u001b[0;36mordenaLista\u001b[0;34m(ldias, lprov, lpres)\u001b[0m\n\u001b[1;32m      6\u001b[0m dias_ord \u001b[39m=\u001b[39m \u001b[39msorted\u001b[39m(ldias)\n\u001b[1;32m      7\u001b[0m \u001b[39mfor\u001b[39;00m i \u001b[39min\u001b[39;00m \u001b[39mrange\u001b[39m(\u001b[39mlen\u001b[39m(dias_ord)):\n\u001b[0;32m----> 8\u001b[0m     pos \u001b[39m=\u001b[39m lprov\u001b[39m.\u001b[39;49mindex(dias_ord[i])\n\u001b[1;32m      9\u001b[0m     prov_ord\u001b[39m.\u001b[39mappend(lprov[pos])\n\u001b[1;32m     10\u001b[0m     pres_ord\u001b[39m.\u001b[39mappend(lpres[pos])\n",
      "\u001b[0;31mValueError\u001b[0m: 5 is not in list"
     ]
    }
   ],
   "source": [
    "ordenaLista(lista_dias, lista_pnom, lista_ppre)"
   ]
  },
  {
   "attachments": {},
   "cell_type": "markdown",
   "metadata": {},
   "source": [
    "Ejercicio 2\n",
    "Desarrollar un programa y las funciones que considere para generar una lista con números enteros al\n",
    "azar a y b.\n",
    "Finalizar la carga de la misma cuando se obtenga el valor cero, el cero no deberá cargarse en la lista y no\n",
    "debe quedar vacía la lista.\n",
    "intercambiar los elementos de posiciones consecutivas, posición 0 con posición 1, luego posición 2 con\n",
    "posición 3 hasta finalizar la lista. Informar cuantos intercambios se realizaron."
   ]
  },
  {
   "cell_type": "code",
   "execution_count": null,
   "metadata": {},
   "outputs": [],
   "source": []
  }
 ],
 "metadata": {
  "kernelspec": {
   "display_name": "training_env",
   "language": "python",
   "name": "python3"
  },
  "language_info": {
   "codemirror_mode": {
    "name": "ipython",
    "version": 3
   },
   "file_extension": ".py",
   "mimetype": "text/x-python",
   "name": "python",
   "nbconvert_exporter": "python",
   "pygments_lexer": "ipython3",
   "version": "3.9.16"
  },
  "orig_nbformat": 4
 },
 "nbformat": 4,
 "nbformat_minor": 2
}
