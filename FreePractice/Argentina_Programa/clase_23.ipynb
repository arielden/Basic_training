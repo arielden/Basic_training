{
 "cells": [
  {
   "attachments": {},
   "cell_type": "markdown",
   "metadata": {},
   "source": [
    "- Una tienda ofrece un descuento a sus clientes según la compra realizada:\n",
    "- Menos de 1000 pesos, no se le aplica descuento.\n",
    "- Si el monto de la compra es entre 1000 y 2000, ofrece un 15% de descuento.\n",
    "- Si el monto supera los 2000, ofrece un 20% de descuento.\n",
    "Desarrollar un programa que ingrese el monto de la compra (validar que sea positivo) e\n",
    "informe el monto a pagar con el descuento aplicado en caso de corresponder para cada\n",
    "compra.\n",
    "El fin de carga se indica con un monto de compra igual a -1.\n",
    "Luego emitir un informe final con la siguiente información:\n",
    "a. Cuántas ventas se realizaron sin descuento / con el 15% de descuento / con el 20% de\n",
    "descuento\n",
    "b. Cuál fue el monto total de descuento realizado con el 15% de descuento / con el 20% de\n",
    "descuento\n",
    "c. Monto Promedio Total de ventas con el descuento aplicado.\n",
    "d. Porcentaje de ventas sin descuento / con descuento\n",
    "e. Mayor compra realizada.\n",
    "f. Compra de menor valor."
   ]
  },
  {
   "attachments": {},
   "cell_type": "markdown",
   "metadata": {},
   "source": [
    "2- Desarrollar un programa que permita leer tres números en forma aleatoria y ordenarlos\n",
    "de menor a mayor.\n",
    "Muestre el resultado.\n",
    "Datos de prueba de escritorio:\n",
    "ejecutar la prueba con todas las combinaciones posibles de esos 3 números (3!)"
   ]
  },
  {
   "attachments": {},
   "cell_type": "markdown",
   "metadata": {},
   "source": [
    "3-Leer 10 números enteros e imprimir el promedio, el mayor y en qué orden fue ingresado el\n",
    "mayor valor, si se ingresó más de una vez debe informar el primer ingreso"
   ]
  },
  {
   "cell_type": "code",
   "execution_count": 8,
   "metadata": {},
   "outputs": [
    {
     "name": "stdout",
     "output_type": "stream",
     "text": [
      "9\n"
     ]
    }
   ],
   "source": [
    "lista_num = []\n",
    "for i in range(3):\n",
    "    numero = int(input(f\"Ingrese número {i+1} de 10\"))\n",
    "    lista_num.append(numero)\n",
    "print(sum(lista_num))\n",
    "\n",
    "promedio = sum(lista_num)/10\n",
    "max_val = max(lista_num)\n",
    "posicion = lista_num.index(max_val)"
   ]
  },
  {
   "cell_type": "code",
   "execution_count": 9,
   "metadata": {},
   "outputs": [
    {
     "name": "stdout",
     "output_type": "stream",
     "text": [
      "El promedio es 0.9\n"
     ]
    }
   ],
   "source": [
    "print(f\"El promedio es {promedio}\")"
   ]
  },
  {
   "cell_type": "code",
   "execution_count": 10,
   "metadata": {},
   "outputs": [
    {
     "name": "stdout",
     "output_type": "stream",
     "text": [
      "El máximo valor ingresado es 5 y se encuentra en la posición 1\n"
     ]
    }
   ],
   "source": [
    "print(f\"El máximo valor ingresado es {max_val} y se encuentra en la posición {posicion} de las lista.\")"
   ]
  }
 ],
 "metadata": {
  "kernelspec": {
   "display_name": "training_env",
   "language": "python",
   "name": "python3"
  },
  "language_info": {
   "codemirror_mode": {
    "name": "ipython",
    "version": 3
   },
   "file_extension": ".py",
   "mimetype": "text/x-python",
   "name": "python",
   "nbconvert_exporter": "python",
   "pygments_lexer": "ipython3",
   "version": "3.9.16"
  },
  "orig_nbformat": 4
 },
 "nbformat": 4,
 "nbformat_minor": 2
}
