{
 "cells": [
  {
   "cell_type": "code",
   "execution_count": null,
   "metadata": {},
   "outputs": [],
   "source": [
    "class Cuenta:\n",
    "    def __init__(self, titular:str, saldo = 0) -> None:\n",
    "        from datetime import datetime\n",
    "        self.titular = titular\n",
    "        self.saldo = saldo\n",
    "        self.creacion = datetime.now()\n",
    "        pass\n",
    "    def depositar(self, monto:float):\n",
    "        self.saldo = self.saldo + monto\n",
    "\n",
    "    def transferir(self, cuenta_dest:str, monto:float):\n",
    "        if monto <= self.saldo:\n",
    "            self.saldo = self.saldo - monto\n",
    "            try:\n",
    "                cuenta_dest.depositar(monto)\n",
    "            except NameError as err:\n",
    "                return print(f\"Cuenta inexistente: -> {err}\")\n",
    "            return print(\"Operación efectuada\")\n",
    "        else:\n",
    "            return print(\"Saldo insuficiente\")\n",
    "\n",
    "    def consulta_saldo(self):\n",
    "        return print(f\"Su saldo total es de {self.saldo} pesos\")\n",
    "\n",
    "    def consulta_datos(self):\n",
    "        return print(f\"El titular de la cuenta es {self.titular}. Iniciada: {self.creacion}\")"
   ]
  },
  {
   "cell_type": "code",
   "execution_count": null,
   "metadata": {},
   "outputs": [],
   "source": [
    "class Sucursal:\n",
    "    def __init__(self, numero, direccion, cant_cuentas = 0) -> None:\n",
    "        self.suc_num = numero\n",
    "        self.suc_dir = direccion\n",
    "        self.suc_cant_cuentas = cant_cuentas\n",
    "    def crear_cuenta(self):\n",
    "        self.suc_cuenta = Cuenta(self.nombre_titular, self.saldo_inicial)\n",
    "        self.suc_cant_cuentas += 1\n",
    "        return self.suc_cuenta\n",
    "    \n"
   ]
  },
  {
   "cell_type": "code",
   "execution_count": null,
   "metadata": {},
   "outputs": [],
   "source": [
    "class Cliente:\n",
    "    def __init__(self, nombre) -> None:\n",
    "        self.nombre_titular = nombre\n",
    "    def asociar_cuenta(self, saldo = 0):\n",
    "        self.saldo_inicial = saldo\n",
    "        self.caja_ahorro = Cuenta(self.nombre_titular, self.saldo_inicial)\n",
    "        return self.caja_ahorro"
   ]
  },
  {
   "cell_type": "code",
   "execution_count": null,
   "metadata": {},
   "outputs": [],
   "source": [
    "c1 = Cliente('Ariel')"
   ]
  },
  {
   "cell_type": "code",
   "execution_count": null,
   "metadata": {},
   "outputs": [],
   "source": [
    "c2 = Cliente('Natalin')"
   ]
  },
  {
   "cell_type": "code",
   "execution_count": null,
   "metadata": {},
   "outputs": [],
   "source": [
    "cuenta1 = c1.asociar_cuenta()"
   ]
  },
  {
   "cell_type": "code",
   "execution_count": null,
   "metadata": {},
   "outputs": [],
   "source": [
    "cuenta2 = c2.asociar_cuenta(50)"
   ]
  },
  {
   "cell_type": "code",
   "execution_count": null,
   "metadata": {},
   "outputs": [],
   "source": [
    "cuenta1.consulta_saldo()   "
   ]
  },
  {
   "cell_type": "code",
   "execution_count": null,
   "metadata": {},
   "outputs": [],
   "source": [
    "cuenta2.consulta_saldo()"
   ]
  },
  {
   "cell_type": "code",
   "execution_count": null,
   "metadata": {},
   "outputs": [],
   "source": [
    "cuenta1.depositar(130.25)"
   ]
  },
  {
   "cell_type": "code",
   "execution_count": null,
   "metadata": {},
   "outputs": [],
   "source": [
    "cuenta1.transferir(cuenta5, 120.50)"
   ]
  },
  {
   "cell_type": "code",
   "execution_count": null,
   "metadata": {},
   "outputs": [],
   "source": [
    "cuenta2.transferir(cuenta1, 40)"
   ]
  },
  {
   "cell_type": "code",
   "execution_count": null,
   "metadata": {},
   "outputs": [],
   "source": [
    "cuenta1.consulta_datos()"
   ]
  },
  {
   "cell_type": "code",
   "execution_count": null,
   "metadata": {},
   "outputs": [],
   "source": [
    "cuenta2.consulta_datos()"
   ]
  },
  {
   "cell_type": "code",
   "execution_count": null,
   "metadata": {},
   "outputs": [],
   "source": [
    "def piramide(num:int):\n",
    "    \"\"\"Recibe un entero 'n' e imprime\n",
    "    una pirámide con n escalones\"\"\"\n",
    "    i=1\n",
    "    a = 1\n",
    "    while i <= num+1:\n",
    "        for i in range(1, a+1):\n",
    "            print(i, end='')\n",
    "            i +=1\n",
    "        print('')\n",
    "        a +=1\n",
    "        i +=1\n"
   ]
  },
  {
   "cell_type": "code",
   "execution_count": null,
   "metadata": {},
   "outputs": [],
   "source": [
    "piramide(4)"
   ]
  },
  {
   "cell_type": "code",
   "execution_count": null,
   "metadata": {},
   "outputs": [],
   "source": [
    "def joint(array_x:list, array_y:list) -> list:\n",
    "    union = []\n",
    "    for elem_x in array_x:\n",
    "        for elem_y in array_y:\n",
    "            if elem_x == elem_y:\n",
    "                union.append(elem_x)\n",
    "    return set(union)"
   ]
  },
  {
   "cell_type": "code",
   "execution_count": null,
   "metadata": {},
   "outputs": [],
   "source": [
    "a = ['b',3,'e',1]\n",
    "b = ['y',3,'h',1]\n",
    "joint(a,b)"
   ]
  },
  {
   "cell_type": "code",
   "execution_count": 1,
   "metadata": {},
   "outputs": [],
   "source": [
    "class Carrito:\n",
    "    def __init__(self) -> None:\n",
    "        self.montoTotal = 0\n",
    "        self.productos = []\n",
    "    def agregarProducto(self, nombre:str, precio:float, unidades:int):\n",
    "        if nombre not in self.productos:\n",
    "            self.productos.append(nombre)\n",
    "            self.montoTotal = self.montoTotal + precio*unidades\n",
    "            return self.productos\n",
    "        else:\n",
    "            return print(f\"Ya existe {nombre}\")\n",
    "        \n",
    "    def mostrarMonto(self):\n",
    "        total = self.montoTotal\n",
    "        return total"
   ]
  },
  {
   "cell_type": "code",
   "execution_count": 2,
   "metadata": {},
   "outputs": [
    {
     "data": {
      "text/plain": [
       "['Azucar']"
      ]
     },
     "execution_count": 2,
     "metadata": {},
     "output_type": "execute_result"
    }
   ],
   "source": [
    "carrito = Carrito()\n",
    "carrito.agregarProducto('Azucar', 5, 2)"
   ]
  },
  {
   "cell_type": "code",
   "execution_count": 3,
   "metadata": {},
   "outputs": [
    {
     "data": {
      "text/plain": [
       "['Azucar', 'Harina']"
      ]
     },
     "execution_count": 3,
     "metadata": {},
     "output_type": "execute_result"
    }
   ],
   "source": [
    "carrito.agregarProducto('Harina', 15, 1)"
   ]
  },
  {
   "cell_type": "code",
   "execution_count": 7,
   "metadata": {},
   "outputs": [
    {
     "data": {
      "text/plain": [
       "['Azucar', 'Harina', 'Manteca', 'Tomatoes']"
      ]
     },
     "execution_count": 7,
     "metadata": {},
     "output_type": "execute_result"
    }
   ],
   "source": [
    "carrito.agregarProducto('Tomatoes', 59, 45)"
   ]
  },
  {
   "cell_type": "code",
   "execution_count": 8,
   "metadata": {},
   "outputs": [
    {
     "data": {
      "text/plain": [
       "2710"
      ]
     },
     "execution_count": 8,
     "metadata": {},
     "output_type": "execute_result"
    }
   ],
   "source": [
    "carrito.mostrarMonto()"
   ]
  }
 ],
 "metadata": {
  "kernelspec": {
   "display_name": "training_env",
   "language": "python",
   "name": "python3"
  },
  "language_info": {
   "codemirror_mode": {
    "name": "ipython",
    "version": 3
   },
   "file_extension": ".py",
   "mimetype": "text/x-python",
   "name": "python",
   "nbconvert_exporter": "python",
   "pygments_lexer": "ipython3",
   "version": "3.9.16"
  },
  "orig_nbformat": 4
 },
 "nbformat": 4,
 "nbformat_minor": 2
}
